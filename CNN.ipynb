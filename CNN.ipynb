{
 "cells": [
  {
   "cell_type": "code",
   "execution_count": 1,
   "metadata": {},
   "outputs": [],
   "source": [
    "from numpy import mean\n",
    "from numpy import std\n",
    "from numpy import dstack\n",
    "from tensorflow.keras.models import Sequential\n",
    "from tensorflow.keras.layers import Dense\n",
    "from tensorflow.keras.layers import Flatten\n",
    "from tensorflow.keras.layers import Dropout\n",
    "from tensorflow.keras.layers import Conv1D\n",
    "from tensorflow.keras.layers import MaxPooling1D\n",
    "from tensorflow.keras.utils import to_categorical\n",
    "import numpy as np\n",
    "from sklearn.model_selection import train_test_split\n",
    "from tensorflow.keras.metrics import *\n",
    "import tensorflow as tf\n",
    "from tensorflow.keras.utils import plot_model"
   ]
  },
  {
   "cell_type": "code",
   "execution_count": 2,
   "metadata": {},
   "outputs": [
    {
     "name": "stdout",
     "output_type": "stream",
     "text": [
      "1 Physical GPUs, 1 Logical GPU\n"
     ]
    }
   ],
   "source": [
    "gpus = tf.config.list_physical_devices('GPU')\n",
    "if gpus:\n",
    "  # Restrict TensorFlow to only use the first GPU\n",
    "  try:\n",
    "    tf.config.experimental.set_visible_devices(gpus[0], 'GPU')\n",
    "    logical_gpus = tf.config.experimental.list_logical_devices('GPU')\n",
    "    print(len(gpus), \"Physical GPUs,\", len(logical_gpus), \"Logical GPU\")\n",
    "  except RuntimeError as e:\n",
    "    # Visible devices must be set before GPUs have been initialized\n",
    "    print(e)"
   ]
  },
  {
   "cell_type": "code",
   "execution_count": 3,
   "metadata": {},
   "outputs": [],
   "source": [
    "s25 = np.load('s25.npy')\n",
    "h25 = np.load('h25.npy')"
   ]
  },
  {
   "cell_type": "code",
   "execution_count": 4,
   "metadata": {},
   "outputs": [],
   "source": [
    "s25_labels = np.array([0 for _ in range(0,len(s25))])\n",
    "h25_labels = np.array([1 for _ in range(0,len(h25))])"
   ]
  },
  {
   "cell_type": "code",
   "execution_count": 5,
   "metadata": {},
   "outputs": [],
   "source": [
    "X = np.append(s25,h25,axis=0)"
   ]
  },
  {
   "cell_type": "code",
   "execution_count": 6,
   "metadata": {},
   "outputs": [],
   "source": [
    "y = np.append(s25_labels,h25_labels,axis=0)"
   ]
  },
  {
   "cell_type": "code",
   "execution_count": 7,
   "metadata": {},
   "outputs": [
    {
     "data": {
      "text/plain": [
       "(1142, 6250, 19)"
      ]
     },
     "execution_count": 7,
     "metadata": {},
     "output_type": "execute_result"
    }
   ],
   "source": [
    "X.shape"
   ]
  },
  {
   "cell_type": "code",
   "execution_count": 8,
   "metadata": {},
   "outputs": [],
   "source": [
    "def evaluate_model(trainX, trainy, testX, testy):\n",
    "    verbose, epochs, batch_size = 1, 10, 32\n",
    "    n_timesteps, n_features = trainX.shape[1], trainX.shape[2]\n",
    "    model = Sequential()\n",
    "    model.add(Conv1D(filters=64, kernel_size=3, activation='relu', input_shape=(n_timesteps,n_features)))\n",
    "    model.add(Conv1D(filters=64, kernel_size=3, activation='relu'))\n",
    "    model.add(Dropout(0.5))\n",
    "    model.add(MaxPooling1D(pool_size=2))\n",
    "    model.add(Flatten())\n",
    "    model.add(Dense(100, activation= 'relu' ))\n",
    "    model.add(Dropout(0.25))\n",
    "    model.add(Dense(1, activation= 'sigmoid' ))\n",
    "    model.compile(loss= 'binary_crossentropy' , optimizer= 'adam' , metrics=['accuracy',Precision(),Recall(),AUC()])\n",
    "    # fit network\n",
    "    model.fit(trainX, trainy, epochs=epochs, batch_size=batch_size, verbose=verbose)\n",
    "    # evaluate model\n",
    "    _, accuracy,precision,recall,auc = model.evaluate(testX, testy, batch_size=batch_size, verbose=0)\n",
    "    return accuracy,precision,recall,auc"
   ]
  },
  {
   "cell_type": "code",
   "execution_count": 9,
   "metadata": {},
   "outputs": [],
   "source": [
    "def summarize_results(accuracies,precisions,recalls,aucs):\n",
    "    m, s = mean(accuracies), std(accuracies)\n",
    "    print( ' Accuracy: %.3f%% (+/-%.3f) ' % (m, s))\n",
    "    m, s = mean(precisions), std(precisions)\n",
    "    print( ' Precision: %.3f%% (+/-%.3f) ' % (m, s))\n",
    "    m, s = mean(recalls), std(recalls)\n",
    "    print( ' Recall: %.3f%% (+/-%.3f) ' % (m, s))\n",
    "    m, s = mean(aucs), std(aucs)\n",
    "    print( ' AUC: %.3f%% (+/-%.3f) ' % (m, s))"
   ]
  },
  {
   "cell_type": "code",
   "execution_count": 10,
   "metadata": {},
   "outputs": [],
   "source": [
    "def run_experiment(X,y,repeats=5):\n",
    "    # load data\n",
    "    trainX, testX,trainy, testy = train_test_split(X, y, test_size=0.20, random_state=42)\n",
    "    # repeat experiment\n",
    "    accuracies = list()\n",
    "    precisions = list()\n",
    "    recalls = list()\n",
    "    aucs = list()\n",
    "    for r in range(repeats):\n",
    "        accuracy,precision,recall,auc = evaluate_model(trainX, trainy, testX, testy)\n",
    "        accuracy = accuracy * 100.0\n",
    "        precision = precision * 100.0\n",
    "        recall = recall * 100.0\n",
    "        auc = auc * 100.0\n",
    "        accuracies.append(accuracy)\n",
    "        precisions.append(precision)\n",
    "        recalls.append(recall)\n",
    "        aucs.append(auc)\n",
    "    # summarize results\n",
    "    summarize_results(accuracies,precisions,recalls,aucs)"
   ]
  },
  {
   "cell_type": "code",
   "execution_count": 11,
   "metadata": {},
   "outputs": [
    {
     "name": "stdout",
     "output_type": "stream",
     "text": [
      "Epoch 1/10\n",
      "29/29 [==============================] - 4s 28ms/step - loss: 24.3454 - accuracy: 0.6123 - precision: 0.5964 - recall: 0.5350 - auc: 0.6216\n",
      "Epoch 2/10\n",
      "29/29 [==============================] - 1s 27ms/step - loss: 0.5978 - accuracy: 0.8817 - precision: 0.8721 - recall: 0.8762 - auc: 0.9382\n",
      "Epoch 3/10\n",
      "29/29 [==============================] - 1s 27ms/step - loss: 0.2298 - accuracy: 0.9419 - precision: 0.9676 - recall: 0.9065 - auc: 0.9818\n",
      "Epoch 4/10\n",
      "29/29 [==============================] - 1s 27ms/step - loss: 0.0938 - accuracy: 0.9704 - precision: 0.9696 - recall: 0.9673 - auc: 0.9952\n",
      "Epoch 5/10\n",
      "29/29 [==============================] - 1s 27ms/step - loss: 0.0343 - accuracy: 0.9945 - precision: 0.9976 - recall: 0.9907 - auc: 0.9999\n",
      "Epoch 6/10\n",
      "29/29 [==============================] - 1s 27ms/step - loss: 0.0434 - accuracy: 0.9945 - precision: 0.9930 - recall: 0.9953 - auc: 0.9985\n",
      "Epoch 7/10\n",
      "29/29 [==============================] - 1s 27ms/step - loss: 0.0176 - accuracy: 0.9989 - precision: 0.9977 - recall: 1.0000 - auc: 1.0000\n",
      "Epoch 8/10\n",
      "29/29 [==============================] - 1s 27ms/step - loss: 0.0120 - accuracy: 0.9978 - precision: 0.9953 - recall: 1.0000 - auc: 1.0000\n",
      "Epoch 9/10\n",
      "29/29 [==============================] - 1s 27ms/step - loss: 0.0122 - accuracy: 0.9967 - precision: 0.9930 - recall: 1.0000 - auc: 1.0000\n",
      "Epoch 10/10\n",
      "29/29 [==============================] - 1s 27ms/step - loss: 0.0081 - accuracy: 0.9989 - precision: 0.9977 - recall: 1.0000 - auc: 1.0000\n",
      "Epoch 1/10\n",
      "29/29 [==============================] - 2s 27ms/step - loss: 55.3868 - accuracy: 0.5871 - precision_1: 0.5684 - recall_1: 0.4953 - auc_1: 0.5893\n",
      "Epoch 2/10\n",
      "29/29 [==============================] - 1s 27ms/step - loss: 0.7039 - accuracy: 0.8193 - precision_1: 0.8507 - recall_1: 0.7453 - auc_1: 0.8997\n",
      "Epoch 3/10\n",
      "29/29 [==============================] - 1s 27ms/step - loss: 0.1726 - accuracy: 0.9244 - precision_1: 0.9243 - recall_1: 0.9136 - auc_1: 0.9805\n",
      "Epoch 4/10\n",
      "29/29 [==============================] - 1s 27ms/step - loss: 0.0956 - accuracy: 0.9715 - precision_1: 0.9741 - recall_1: 0.9650 - auc_1: 0.9925\n",
      "Epoch 5/10\n",
      "29/29 [==============================] - 1s 27ms/step - loss: 0.0320 - accuracy: 0.9912 - precision_1: 0.9884 - recall_1: 0.9930 - auc_1: 0.9997\n",
      "Epoch 6/10\n",
      "29/29 [==============================] - 1s 27ms/step - loss: 0.0159 - accuracy: 0.9989 - precision_1: 0.9977 - recall_1: 1.0000 - auc_1: 1.0000\n",
      "Epoch 7/10\n",
      "29/29 [==============================] - 1s 27ms/step - loss: 0.0098 - accuracy: 0.9978 - precision_1: 0.9977 - recall_1: 0.9977 - auc_1: 1.0000\n",
      "Epoch 8/10\n",
      "29/29 [==============================] - 1s 27ms/step - loss: 0.0058 - accuracy: 0.9989 - precision_1: 0.9977 - recall_1: 1.0000 - auc_1: 1.0000\n",
      "Epoch 9/10\n",
      "29/29 [==============================] - 1s 27ms/step - loss: 0.0081 - accuracy: 0.9978 - precision_1: 0.9977 - recall_1: 0.9977 - auc_1: 1.0000\n",
      "Epoch 10/10\n",
      "29/29 [==============================] - 1s 27ms/step - loss: 0.0045 - accuracy: 0.9989 - precision_1: 0.9977 - recall_1: 1.0000 - auc_1: 1.0000\n",
      "Epoch 1/10\n",
      "29/29 [==============================] - 2s 26ms/step - loss: 69.9506 - accuracy: 0.5487 - precision_2: 0.5187 - recall_2: 0.5187 - auc_2: 0.5521\n",
      "Epoch 2/10\n",
      "29/29 [==============================] - 1s 27ms/step - loss: 0.5862 - accuracy: 0.6637 - precision_2: 0.5873 - recall_2: 0.9509 - auc_2: 0.6904\n",
      "Epoch 3/10\n",
      "29/29 [==============================] - 1s 27ms/step - loss: 0.5667 - accuracy: 0.7076 - precision_2: 0.6284 - recall_2: 0.9206 - auc_2: 0.7520\n",
      "Epoch 4/10\n",
      "29/29 [==============================] - 1s 27ms/step - loss: 0.5014 - accuracy: 0.7492 - precision_2: 0.6917 - recall_2: 0.8388 - auc_2: 0.8007\n",
      "Epoch 5/10\n",
      "29/29 [==============================] - 1s 27ms/step - loss: 0.4664 - accuracy: 0.7853 - precision_2: 0.7266 - recall_2: 0.8692 - auc_2: 0.8379\n",
      "Epoch 6/10\n",
      "29/29 [==============================] - 1s 27ms/step - loss: 0.4406 - accuracy: 0.8138 - precision_2: 0.7471 - recall_2: 0.9112 - auc_2: 0.8555\n",
      "Epoch 7/10\n",
      "29/29 [==============================] - 1s 27ms/step - loss: 0.4136 - accuracy: 0.8576 - precision_2: 0.7899 - recall_2: 0.9486 - auc_2: 0.8868\n",
      "Epoch 8/10\n",
      "29/29 [==============================] - 1s 27ms/step - loss: 0.3995 - accuracy: 0.8719 - precision_2: 0.8104 - recall_2: 0.9486 - auc_2: 0.9046\n",
      "Epoch 9/10\n",
      "29/29 [==============================] - 1s 27ms/step - loss: 0.3793 - accuracy: 0.8850 - precision_2: 0.8358 - recall_2: 0.9393 - auc_2: 0.9154\n",
      "Epoch 10/10\n",
      "29/29 [==============================] - 1s 27ms/step - loss: 0.3632 - accuracy: 0.9080 - precision_2: 0.8644 - recall_2: 0.9533 - auc_2: 0.9268\n",
      "Epoch 1/10\n",
      "29/29 [==============================] - 2s 27ms/step - loss: 46.9028 - accuracy: 0.5498 - precision_3: 0.5214 - recall_3: 0.4836 - auc_3: 0.5590\n",
      "Epoch 2/10\n",
      "29/29 [==============================] - 1s 27ms/step - loss: 0.7093 - accuracy: 0.7798 - precision_3: 0.7859 - recall_3: 0.7290 - auc_3: 0.8562\n",
      "Epoch 3/10\n",
      "29/29 [==============================] - 1s 27ms/step - loss: 0.2631 - accuracy: 0.9222 - precision_3: 0.9142 - recall_3: 0.9206 - auc_3: 0.9691\n",
      "Epoch 4/10\n",
      "29/29 [==============================] - 1s 27ms/step - loss: 0.1337 - accuracy: 0.9595 - precision_3: 0.9393 - recall_3: 0.9766 - auc_3: 0.9931\n",
      "Epoch 5/10\n",
      "29/29 [==============================] - 1s 27ms/step - loss: 0.0845 - accuracy: 0.9770 - precision_3: 0.9700 - recall_3: 0.9813 - auc_3: 0.9952\n",
      "Epoch 6/10\n",
      "29/29 [==============================] - 1s 27ms/step - loss: 0.0501 - accuracy: 0.9869 - precision_3: 0.9883 - recall_3: 0.9836 - auc_3: 0.9994\n",
      "Epoch 7/10\n",
      "29/29 [==============================] - 1s 27ms/step - loss: 0.0315 - accuracy: 0.9945 - precision_3: 0.9953 - recall_3: 0.9930 - auc_3: 0.9999\n",
      "Epoch 8/10\n",
      "29/29 [==============================] - 1s 27ms/step - loss: 0.0361 - accuracy: 0.9912 - precision_3: 0.9907 - recall_3: 0.9907 - auc_3: 0.9985\n",
      "Epoch 9/10\n",
      "29/29 [==============================] - 1s 27ms/step - loss: 0.0299 - accuracy: 0.9923 - precision_3: 0.9861 - recall_3: 0.9977 - auc_3: 0.9998\n",
      "Epoch 10/10\n",
      "29/29 [==============================] - 1s 27ms/step - loss: 0.0191 - accuracy: 0.9967 - precision_3: 0.9930 - recall_3: 1.0000 - auc_3: 0.9999\n",
      "Epoch 1/10\n",
      "29/29 [==============================] - 2s 27ms/step - loss: 48.9585 - accuracy: 0.5520 - precision_4: 0.5268 - recall_4: 0.4369 - auc_4: 0.5591\n",
      "Epoch 2/10\n",
      "29/29 [==============================] - 1s 27ms/step - loss: 0.9854 - accuracy: 0.7656 - precision_4: 0.7410 - recall_4: 0.7687 - auc_4: 0.8446\n",
      "Epoch 3/10\n",
      "29/29 [==============================] - 1s 27ms/step - loss: 0.2747 - accuracy: 0.8850 - precision_4: 0.9068 - recall_4: 0.8411 - auc_4: 0.9596\n",
      "Epoch 4/10\n",
      "29/29 [==============================] - 1s 27ms/step - loss: 0.1456 - accuracy: 0.9540 - precision_4: 0.9427 - recall_4: 0.9603 - auc_4: 0.9920\n",
      "Epoch 5/10\n",
      "29/29 [==============================] - 1s 27ms/step - loss: 0.0827 - accuracy: 0.9792 - precision_4: 0.9789 - recall_4: 0.9766 - auc_4: 0.9980\n",
      "Epoch 6/10\n",
      "29/29 [==============================] - 1s 27ms/step - loss: 0.0429 - accuracy: 0.9956 - precision_4: 0.9953 - recall_4: 0.9953 - auc_4: 0.9996\n",
      "Epoch 7/10\n",
      "29/29 [==============================] - 1s 27ms/step - loss: 0.0245 - accuracy: 0.9978 - precision_4: 0.9953 - recall_4: 1.0000 - auc_4: 1.0000\n",
      "Epoch 8/10\n",
      "29/29 [==============================] - 1s 27ms/step - loss: 0.0127 - accuracy: 0.9967 - precision_4: 0.9953 - recall_4: 0.9977 - auc_4: 1.0000\n",
      "Epoch 9/10\n",
      "29/29 [==============================] - 1s 27ms/step - loss: 0.0081 - accuracy: 1.0000 - precision_4: 1.0000 - recall_4: 1.0000 - auc_4: 1.0000\n",
      "Epoch 10/10\n",
      "29/29 [==============================] - 1s 27ms/step - loss: 0.0062 - accuracy: 0.9989 - precision_4: 0.9977 - recall_4: 1.0000 - auc_4: 1.0000\n",
      " Accuracy: 88.646% (+/-5.852) \n",
      " Precision: 86.068% (+/-6.545) \n",
      " Recall: 83.636% (+/-10.128) \n",
      " AUC: 94.894% (+/-4.127) \n"
     ]
    }
   ],
   "source": [
    "run_experiment(X,y)"
   ]
  },
  {
   "cell_type": "code",
   "execution_count": 12,
   "metadata": {},
   "outputs": [],
   "source": [
    "def evaluate_model_2(trainX, trainy, testX, testy):\n",
    "    verbose, epochs, batch_size = 1, 10, 32\n",
    "    n_timesteps, n_features = trainX.shape[1], trainX.shape[2]\n",
    "    model = Sequential()\n",
    "    model.add(Conv1D(filters=64, kernel_size=3, activation='relu', input_shape=(n_timesteps,n_features)))\n",
    "    model.add(Dropout(0.5))\n",
    "    model.add(Conv1D(filters=64, kernel_size=3, activation='relu'))\n",
    "    model.add(Dropout(0.5))\n",
    "    model.add(Conv1D(filters=64, kernel_size=3, activation='relu'))\n",
    "    model.add(Dropout(0.5))\n",
    "    model.add(MaxPooling1D(pool_size=2))\n",
    "    model.add(Flatten())\n",
    "    model.add(Dense(100, activation= 'relu' ))\n",
    "    model.add(Dropout(0.25))\n",
    "    model.add(Dense(1, activation= 'sigmoid' ))\n",
    "    model.compile(loss= 'binary_crossentropy' , optimizer= 'adam' , metrics=['accuracy',Precision(),Recall(),AUC()])\n",
    "    # fit network\n",
    "    model.fit(trainX, trainy, epochs=epochs, batch_size=batch_size, verbose=verbose)\n",
    "    # evaluate model\n",
    "    _, accuracy,precision,recall,auc = model.evaluate(testX, testy, batch_size=batch_size, verbose=0)\n",
    "    return accuracy,precision,recall,auc"
   ]
  },
  {
   "cell_type": "code",
   "execution_count": 13,
   "metadata": {},
   "outputs": [],
   "source": [
    "def run_experiment_2(X,y,repeats=5):\n",
    "    # load data\n",
    "    trainX, testX,trainy, testy = train_test_split(X, y, test_size=0.20, random_state=42)\n",
    "    # repeat experiment\n",
    "    accuracies = list()\n",
    "    precisions = list()\n",
    "    recalls = list()\n",
    "    aucs = list()\n",
    "    for r in range(repeats):\n",
    "        accuracy,precision,recall,auc = evaluate_model_2(trainX, trainy, testX, testy)\n",
    "        accuracy = accuracy * 100.0\n",
    "        precision = precision * 100.0\n",
    "        recall = recall * 100.0\n",
    "        auc = auc * 100.0\n",
    "        accuracies.append(accuracy)\n",
    "        precisions.append(precision)\n",
    "        recalls.append(recall)\n",
    "        aucs.append(auc)\n",
    "    # summarize results\n",
    "    summarize_results(accuracies,precisions,recalls,aucs)"
   ]
  },
  {
   "cell_type": "code",
   "execution_count": 14,
   "metadata": {},
   "outputs": [
    {
     "name": "stdout",
     "output_type": "stream",
     "text": [
      "Epoch 1/10\n",
      "29/29 [==============================] - 1s 23ms/step - loss: 86.1107 - accuracy: 0.5192 - precision_5: 0.4807 - recall_5: 0.3201 - auc_5: 0.5213\n",
      "Epoch 2/10\n",
      "29/29 [==============================] - 1s 23ms/step - loss: 0.6894 - accuracy: 0.4775 - precision_5: 0.4727 - recall_5: 0.9930 - auc_5: 0.4986\n",
      "Epoch 3/10\n",
      "29/29 [==============================] - 1s 24ms/step - loss: 0.6897 - accuracy: 0.4721 - precision_5: 0.4703 - recall_5: 1.0000 - auc_5: 0.5090\n",
      "Epoch 4/10\n",
      "29/29 [==============================] - 1s 24ms/step - loss: 0.6910 - accuracy: 0.4710 - precision_5: 0.4698 - recall_5: 1.0000 - auc_5: 0.5032\n",
      "Epoch 5/10\n",
      "29/29 [==============================] - 1s 23ms/step - loss: 0.6909 - accuracy: 0.4874 - precision_5: 0.4554 - recall_5: 0.4766 - auc_5: 0.5032\n",
      "Epoch 6/10\n",
      "29/29 [==============================] - 1s 23ms/step - loss: 0.6893 - accuracy: 0.5334 - precision_5: 1.0000 - recall_5: 0.0047 - auc_5: 0.5054\n",
      "Epoch 7/10\n",
      "29/29 [==============================] - 1s 24ms/step - loss: 0.6898 - accuracy: 0.5323 - precision_5: 1.0000 - recall_5: 0.0023 - auc_5: 0.4936\n",
      "Epoch 8/10\n",
      "29/29 [==============================] - 1s 24ms/step - loss: 0.6888 - accuracy: 0.5334 - precision_5: 1.0000 - recall_5: 0.0047 - auc_5: 0.5064\n",
      "Epoch 9/10\n",
      "29/29 [==============================] - 1s 23ms/step - loss: 0.6882 - accuracy: 0.5345 - precision_5: 1.0000 - recall_5: 0.0070 - auc_5: 0.5066\n",
      "Epoch 10/10\n",
      "29/29 [==============================] - 1s 22ms/step - loss: 0.6871 - accuracy: 0.5345 - precision_5: 1.0000 - recall_5: 0.0070 - auc_5: 0.5076\n",
      "Epoch 1/10\n",
      "29/29 [==============================] - 1s 24ms/step - loss: 79.4526 - accuracy: 0.5367 - precision_6: 0.5092 - recall_6: 0.3248 - auc_6: 0.5382\n",
      "Epoch 2/10\n",
      "29/29 [==============================] - 1s 24ms/step - loss: 0.6932 - accuracy: 0.4710 - precision_6: 0.4698 - recall_6: 1.0000 - auc_6: 0.5021\n",
      "Epoch 3/10\n",
      "29/29 [==============================] - 1s 24ms/step - loss: 0.6935 - accuracy: 0.4688 - precision_6: 0.4688 - recall_6: 1.0000 - auc_6: 0.4890\n",
      "Epoch 4/10\n",
      "29/29 [==============================] - 1s 24ms/step - loss: 0.6933 - accuracy: 0.4688 - precision_6: 0.4688 - recall_6: 1.0000 - auc_6: 0.5000\n",
      "Epoch 5/10\n",
      "29/29 [==============================] - 1s 24ms/step - loss: 0.6931 - accuracy: 0.4984 - precision_6: 0.4740 - recall_6: 0.6379 - auc_6: 0.5000\n",
      "Epoch 6/10\n",
      "29/29 [==============================] - 1s 24ms/step - loss: 0.6930 - accuracy: 0.5312 - precision_6: 0.0000e+00 - recall_6: 0.0000e+00 - auc_6: 0.5000\n",
      "Epoch 7/10\n",
      "29/29 [==============================] - 1s 23ms/step - loss: 0.6928 - accuracy: 0.5312 - precision_6: 0.0000e+00 - recall_6: 0.0000e+00 - auc_6: 0.4802\n",
      "Epoch 8/10\n",
      "29/29 [==============================] - 1s 22ms/step - loss: 0.6927 - accuracy: 0.5312 - precision_6: 0.0000e+00 - recall_6: 0.0000e+00 - auc_6: 0.5000\n",
      "Epoch 9/10\n",
      "29/29 [==============================] - 1s 22ms/step - loss: 0.6925 - accuracy: 0.5312 - precision_6: 0.0000e+00 - recall_6: 0.0000e+00 - auc_6: 0.5000\n",
      "Epoch 10/10\n",
      "29/29 [==============================] - 1s 23ms/step - loss: 0.6924 - accuracy: 0.5312 - precision_6: 0.0000e+00 - recall_6: 0.0000e+00 - auc_6: 0.5021\n",
      "Epoch 1/10\n",
      "29/29 [==============================] - 1s 24ms/step - loss: 86.1971 - accuracy: 0.5071 - precision_7: 0.4693 - recall_7: 0.3925 - auc_7: 0.5039\n",
      "Epoch 2/10\n",
      "29/29 [==============================] - 1s 23ms/step - loss: 3.0241 - accuracy: 0.5422 - precision_7: 0.5140 - recall_7: 0.4299 - auc_7: 0.5620\n",
      "Epoch 3/10\n",
      "29/29 [==============================] - 1s 24ms/step - loss: 0.8290 - accuracy: 0.6145 - precision_7: 0.6044 - recall_7: 0.5140 - auc_7: 0.6626\n",
      "Epoch 4/10\n",
      "29/29 [==============================] - 1s 23ms/step - loss: 0.6139 - accuracy: 0.6386 - precision_7: 0.6441 - recall_7: 0.5117 - auc_7: 0.7166\n",
      "Epoch 5/10\n",
      "29/29 [==============================] - 1s 23ms/step - loss: 0.5960 - accuracy: 0.6462 - precision_7: 0.6479 - recall_7: 0.5374 - auc_7: 0.7432\n",
      "Epoch 6/10\n",
      "29/29 [==============================] - 1s 22ms/step - loss: 0.5517 - accuracy: 0.6922 - precision_7: 0.6729 - recall_7: 0.6682 - auc_7: 0.7681\n",
      "Epoch 7/10\n",
      "29/29 [==============================] - 1s 23ms/step - loss: 0.5153 - accuracy: 0.7338 - precision_7: 0.7146 - recall_7: 0.7196 - auc_7: 0.8155\n",
      "Epoch 8/10\n",
      "29/29 [==============================] - 1s 24ms/step - loss: 0.4910 - accuracy: 0.7503 - precision_7: 0.7347 - recall_7: 0.7313 - auc_7: 0.8276\n",
      "Epoch 9/10\n",
      "29/29 [==============================] - 1s 24ms/step - loss: 0.4261 - accuracy: 0.8138 - precision_7: 0.8042 - recall_7: 0.7967 - auc_7: 0.8880\n",
      "Epoch 10/10\n",
      "29/29 [==============================] - 1s 23ms/step - loss: 0.4070 - accuracy: 0.8127 - precision_7: 0.7862 - recall_7: 0.8248 - auc_7: 0.8918\n",
      "Epoch 1/10\n",
      "29/29 [==============================] - 1s 23ms/step - loss: 113.1866 - accuracy: 0.4830 - precision_8: 0.4574 - recall_8: 0.5514 - auc_8: 0.4882\n",
      "Epoch 2/10\n",
      "29/29 [==============================] - 1s 23ms/step - loss: 0.6935 - accuracy: 0.4688 - precision_8: 0.4688 - recall_8: 1.0000 - auc_8: 0.5000\n",
      "Epoch 3/10\n",
      "29/29 [==============================] - 1s 22ms/step - loss: 0.6934 - accuracy: 0.4688 - precision_8: 0.4688 - recall_8: 1.0000 - auc_8: 0.4890\n",
      "Epoch 4/10\n",
      "29/29 [==============================] - 1s 22ms/step - loss: 0.6932 - accuracy: 0.4688 - precision_8: 0.4688 - recall_8: 1.0000 - auc_8: 0.5000\n",
      "Epoch 5/10\n",
      "29/29 [==============================] - 1s 24ms/step - loss: 0.6931 - accuracy: 0.5225 - precision_8: 0.3750 - recall_8: 0.0280 - auc_8: 0.5000\n",
      "Epoch 6/10\n",
      "29/29 [==============================] - 1s 24ms/step - loss: 0.6929 - accuracy: 0.5312 - precision_8: 0.0000e+00 - recall_8: 0.0000e+00 - auc_8: 0.5000\n",
      "Epoch 7/10\n",
      "29/29 [==============================] - 1s 23ms/step - loss: 0.6928 - accuracy: 0.5312 - precision_8: 0.0000e+00 - recall_8: 0.0000e+00 - auc_8: 0.5000\n",
      "Epoch 8/10\n",
      "29/29 [==============================] - 1s 24ms/step - loss: 0.6926 - accuracy: 0.5312 - precision_8: 0.0000e+00 - recall_8: 0.0000e+00 - auc_8: 0.5000\n",
      "Epoch 9/10\n",
      "29/29 [==============================] - 1s 24ms/step - loss: 0.6924 - accuracy: 0.5312 - precision_8: 0.0000e+00 - recall_8: 0.0000e+00 - auc_8: 0.5000\n",
      "Epoch 10/10\n",
      "29/29 [==============================] - 1s 23ms/step - loss: 0.6923 - accuracy: 0.5312 - precision_8: 0.0000e+00 - recall_8: 0.0000e+00 - auc_8: 0.4978\n",
      "Epoch 1/10\n",
      "29/29 [==============================] - 1s 24ms/step - loss: 171.0911 - accuracy: 0.4633 - precision_9: 0.4565 - recall_9: 0.7593 - auc_9: 0.4776\n",
      "Epoch 2/10\n",
      "29/29 [==============================] - 1s 25ms/step - loss: 0.6932 - accuracy: 0.4688 - precision_9: 0.4688 - recall_9: 1.0000 - auc_9: 0.5000\n",
      "Epoch 3/10\n",
      "29/29 [==============================] - 1s 25ms/step - loss: 0.6931 - accuracy: 0.5115 - precision_9: 0.4598 - recall_9: 0.2407 - auc_9: 0.5000\n",
      "Epoch 4/10\n",
      "29/29 [==============================] - 1s 26ms/step - loss: 0.6929 - accuracy: 0.5312 - precision_9: 0.0000e+00 - recall_9: 0.0000e+00 - auc_9: 0.5000\n",
      "Epoch 5/10\n",
      "29/29 [==============================] - 1s 25ms/step - loss: 0.6928 - accuracy: 0.5312 - precision_9: 0.0000e+00 - recall_9: 0.0000e+00 - auc_9: 0.4978\n",
      "Epoch 6/10\n",
      "29/29 [==============================] - 1s 26ms/step - loss: 0.6926 - accuracy: 0.5312 - precision_9: 0.0000e+00 - recall_9: 0.0000e+00 - auc_9: 0.5000\n",
      "Epoch 7/10\n",
      "29/29 [==============================] - 1s 26ms/step - loss: 0.6925 - accuracy: 0.5312 - precision_9: 0.0000e+00 - recall_9: 0.0000e+00 - auc_9: 0.5000\n",
      "Epoch 8/10\n",
      "29/29 [==============================] - 1s 26ms/step - loss: 0.6924 - accuracy: 0.5312 - precision_9: 0.0000e+00 - recall_9: 0.0000e+00 - auc_9: 0.4714\n",
      "Epoch 9/10\n",
      "29/29 [==============================] - 1s 25ms/step - loss: 0.6922 - accuracy: 0.5312 - precision_9: 0.0000e+00 - recall_9: 0.0000e+00 - auc_9: 0.5000\n",
      "Epoch 10/10\n",
      "29/29 [==============================] - 1s 25ms/step - loss: 0.6921 - accuracy: 0.5312 - precision_9: 0.0000e+00 - recall_9: 0.0000e+00 - auc_9: 0.5000\n",
      " Accuracy: 58.341% (+/-6.247) \n",
      " Precision: 8.302% (+/-16.604) \n",
      " Recall: 20.000% (+/-40.000) \n",
      " AUC: 57.277% (+/-11.628) \n"
     ]
    }
   ],
   "source": [
    "run_experiment_2(X,y)"
   ]
  },
  {
   "cell_type": "code",
   "execution_count": 15,
   "metadata": {},
   "outputs": [],
   "source": [
    "def evaluate_model_3(trainX, trainy, testX, testy):\n",
    "    verbose, epochs, batch_size = 1, 10, 32\n",
    "    n_timesteps, n_features = trainX.shape[1], trainX.shape[2]\n",
    "    model = Sequential()\n",
    "    model.add(Conv1D(filters=64, kernel_size=3, activation='relu', input_shape=(n_timesteps,n_features)))\n",
    "    model.add(Conv1D(filters=64, kernel_size=3, activation='relu'))\n",
    "    model.add(Dropout(0.5))\n",
    "    model.add(MaxPooling1D(pool_size=2))\n",
    "    model.add(Flatten())\n",
    "    model.add(Dense(100, activation= 'relu' ))\n",
    "    model.add(Dropout(0.25))\n",
    "    model.add(Dense(50, activation= 'relu' ))\n",
    "    model.add(Dropout(0.25))\n",
    "    model.add(Dense(1, activation= 'sigmoid' ))\n",
    "    model.compile(loss= 'binary_crossentropy' , optimizer= 'adam' , metrics=['accuracy',Precision(),Recall(),AUC()])\n",
    "    # fit network\n",
    "    model.fit(trainX, trainy, epochs=epochs, batch_size=batch_size, verbose=verbose)\n",
    "    # evaluate model\n",
    "    _, accuracy,precision,recall,auc = model.evaluate(testX, testy, batch_size=batch_size, verbose=0)\n",
    "    return accuracy,precision,recall,auc"
   ]
  },
  {
   "cell_type": "code",
   "execution_count": 16,
   "metadata": {},
   "outputs": [],
   "source": [
    "def run_experiment_3(X,y,repeats=5):\n",
    "    # load data\n",
    "    trainX, testX,trainy, testy = train_test_split(X, y, test_size=0.20, random_state=42)\n",
    "    # repeat experiment\n",
    "    accuracies = list()\n",
    "    precisions = list()\n",
    "    recalls = list()\n",
    "    aucs = list()\n",
    "    for r in range(repeats):\n",
    "        accuracy,precision,recall,auc = evaluate_model_3(trainX, trainy, testX, testy)\n",
    "        accuracy = accuracy * 100.0\n",
    "        precision = precision * 100.0\n",
    "        recall = recall * 100.0\n",
    "        auc = auc * 100.0\n",
    "        accuracies.append(accuracy)\n",
    "        precisions.append(precision)\n",
    "        recalls.append(recall)\n",
    "        aucs.append(auc)\n",
    "    # summarize results\n",
    "    summarize_results(accuracies,precisions,recalls,aucs)"
   ]
  },
  {
   "cell_type": "code",
   "execution_count": 17,
   "metadata": {},
   "outputs": [
    {
     "name": "stdout",
     "output_type": "stream",
     "text": [
      "Epoch 1/10\n",
      "29/29 [==============================] - 1s 18ms/step - loss: 15.5640 - accuracy: 0.5936 - precision_10: 0.5798 - recall_10: 0.4836 - auc_10: 0.6076\n",
      "Epoch 2/10\n",
      "29/29 [==============================] - 1s 20ms/step - loss: 0.6098 - accuracy: 0.7547 - precision_10: 0.7372 - recall_10: 0.7407 - auc_10: 0.8298\n",
      "Epoch 3/10\n",
      "29/29 [==============================] - 1s 20ms/step - loss: 0.3374 - accuracy: 0.8598 - precision_10: 0.8488 - recall_10: 0.8528 - auc_10: 0.9322\n",
      "Epoch 4/10\n",
      "29/29 [==============================] - 1s 20ms/step - loss: 0.7520 - accuracy: 0.9310 - precision_10: 0.9065 - recall_10: 0.9509 - auc_10: 0.9712\n",
      "Epoch 5/10\n",
      "29/29 [==============================] - 1s 20ms/step - loss: 0.1136 - accuracy: 0.9573 - precision_10: 0.9687 - recall_10: 0.9393 - auc_10: 0.9938\n",
      "Epoch 6/10\n",
      "29/29 [==============================] - 1s 20ms/step - loss: 0.0594 - accuracy: 0.9792 - precision_10: 0.9745 - recall_10: 0.9813 - auc_10: 0.9966\n",
      "Epoch 7/10\n",
      "29/29 [==============================] - 1s 20ms/step - loss: 0.1688 - accuracy: 0.9858 - precision_10: 0.9837 - recall_10: 0.9860 - auc_10: 0.9943\n",
      "Epoch 8/10\n",
      "29/29 [==============================] - 1s 20ms/step - loss: 0.1350 - accuracy: 0.9639 - precision_10: 0.9582 - recall_10: 0.9650 - auc_10: 0.9917\n",
      "Epoch 9/10\n",
      "29/29 [==============================] - 1s 20ms/step - loss: 0.0448 - accuracy: 0.9847 - precision_10: 0.9792 - recall_10: 0.9883 - auc_10: 0.9983\n",
      "Epoch 10/10\n",
      "29/29 [==============================] - 1s 19ms/step - loss: 0.1383 - accuracy: 0.9945 - precision_10: 0.9907 - recall_10: 0.9977 - auc_10: 0.9983\n",
      "Epoch 1/10\n",
      "29/29 [==============================] - 1s 18ms/step - loss: 32.9539 - accuracy: 0.5455 - precision_11: 0.5194 - recall_11: 0.4065 - auc_11: 0.5438\n",
      "Epoch 2/10\n",
      "29/29 [==============================] - 1s 20ms/step - loss: 0.8693 - accuracy: 0.6342 - precision_11: 0.6536 - recall_11: 0.4673 - auc_11: 0.7090\n",
      "Epoch 3/10\n",
      "29/29 [==============================] - 1s 20ms/step - loss: 0.5404 - accuracy: 0.7393 - precision_11: 0.7861 - recall_11: 0.6098 - auc_11: 0.8503\n",
      "Epoch 4/10\n",
      "29/29 [==============================] - 1s 20ms/step - loss: 0.3401 - accuracy: 0.8719 - precision_11: 0.8747 - recall_11: 0.8481 - auc_11: 0.9383\n",
      "Epoch 5/10\n",
      "29/29 [==============================] - 1s 20ms/step - loss: 1.0096 - accuracy: 0.9200 - precision_11: 0.9277 - recall_11: 0.8995 - auc_11: 0.9668\n",
      "Epoch 6/10\n",
      "29/29 [==============================] - 1s 20ms/step - loss: 0.1578 - accuracy: 0.9409 - precision_11: 0.9349 - recall_11: 0.9393 - auc_11: 0.9854\n",
      "Epoch 7/10\n",
      "29/29 [==============================] - 1s 20ms/step - loss: 0.1207 - accuracy: 0.9792 - precision_11: 0.9881 - recall_11: 0.9673 - auc_11: 0.9919\n",
      "Epoch 8/10\n",
      "29/29 [==============================] - 1s 20ms/step - loss: 0.0940 - accuracy: 0.9825 - precision_11: 0.9905 - recall_11: 0.9720 - auc_11: 0.9972\n",
      "Epoch 9/10\n",
      "29/29 [==============================] - 1s 20ms/step - loss: 0.0729 - accuracy: 0.9836 - precision_11: 0.9882 - recall_11: 0.9766 - auc_11: 0.9968\n",
      "Epoch 10/10\n",
      "29/29 [==============================] - 1s 19ms/step - loss: 0.0294 - accuracy: 0.9880 - precision_11: 0.9906 - recall_11: 0.9836 - auc_11: 0.9993\n",
      "Epoch 1/10\n",
      "29/29 [==============================] - 1s 19ms/step - loss: 53.0533 - accuracy: 0.5553 - precision_12: 0.5291 - recall_12: 0.4673 - auc_12: 0.5540\n",
      "Epoch 2/10\n",
      "29/29 [==============================] - 1s 20ms/step - loss: 0.6377 - accuracy: 0.7054 - precision_12: 0.7291 - recall_12: 0.5911 - auc_12: 0.7885\n",
      "Epoch 3/10\n",
      "29/29 [==============================] - 1s 20ms/step - loss: 0.3992 - accuracy: 0.8456 - precision_12: 0.8269 - recall_12: 0.8481 - auc_12: 0.9200\n",
      "Epoch 4/10\n",
      "29/29 [==============================] - 1s 20ms/step - loss: 0.2264 - accuracy: 0.9387 - precision_12: 0.9429 - recall_12: 0.9252 - auc_12: 0.9797\n",
      "Epoch 5/10\n",
      "29/29 [==============================] - 1s 20ms/step - loss: 0.1044 - accuracy: 0.9693 - precision_12: 0.9651 - recall_12: 0.9696 - auc_12: 0.9957\n",
      "Epoch 6/10\n",
      "29/29 [==============================] - 1s 20ms/step - loss: 0.0745 - accuracy: 0.9748 - precision_12: 0.9787 - recall_12: 0.9673 - auc_12: 0.9958\n",
      "Epoch 7/10\n",
      "29/29 [==============================] - 1s 20ms/step - loss: 0.0839 - accuracy: 0.9890 - precision_12: 0.9883 - recall_12: 0.9883 - auc_12: 0.9958\n",
      "Epoch 8/10\n",
      "29/29 [==============================] - 1s 20ms/step - loss: 0.0664 - accuracy: 0.9880 - precision_12: 0.9906 - recall_12: 0.9836 - auc_12: 0.9978\n",
      "Epoch 9/10\n",
      "29/29 [==============================] - 1s 20ms/step - loss: 0.0163 - accuracy: 0.9956 - precision_12: 0.9977 - recall_12: 0.9930 - auc_12: 0.9999\n",
      "Epoch 10/10\n",
      "29/29 [==============================] - 1s 19ms/step - loss: 0.0167 - accuracy: 0.9956 - precision_12: 0.9930 - recall_12: 0.9977 - auc_12: 0.9998\n",
      "Epoch 1/10\n",
      "29/29 [==============================] - 1s 19ms/step - loss: 35.3208 - accuracy: 0.6145 - precision_13: 0.5913 - recall_13: 0.5748 - auc_13: 0.6206\n",
      "Epoch 2/10\n",
      "29/29 [==============================] - 1s 20ms/step - loss: 0.5346 - accuracy: 0.8215 - precision_13: 0.8177 - recall_13: 0.7967 - auc_13: 0.8981\n",
      "Epoch 3/10\n",
      "29/29 [==============================] - 1s 20ms/step - loss: 0.2839 - accuracy: 0.9025 - precision_13: 0.9026 - recall_13: 0.8879 - auc_13: 0.9563\n",
      "Epoch 4/10\n",
      "29/29 [==============================] - 1s 20ms/step - loss: 0.1769 - accuracy: 0.9398 - precision_13: 0.9494 - recall_13: 0.9206 - auc_13: 0.9806\n",
      "Epoch 5/10\n",
      "29/29 [==============================] - 1s 20ms/step - loss: 0.1367 - accuracy: 0.9628 - precision_13: 0.9668 - recall_13: 0.9533 - auc_13: 0.9901\n",
      "Epoch 6/10\n",
      "29/29 [==============================] - 1s 20ms/step - loss: 0.1291 - accuracy: 0.9671 - precision_13: 0.9807 - recall_13: 0.9486 - auc_13: 0.9929\n",
      "Epoch 7/10\n",
      "29/29 [==============================] - 1s 20ms/step - loss: 0.2591 - accuracy: 0.9726 - precision_13: 0.9786 - recall_13: 0.9626 - auc_13: 0.9940\n",
      "Epoch 8/10\n",
      "29/29 [==============================] - 1s 20ms/step - loss: 0.0726 - accuracy: 0.9814 - precision_13: 0.9768 - recall_13: 0.9836 - auc_13: 0.9955\n",
      "Epoch 9/10\n",
      "29/29 [==============================] - 1s 20ms/step - loss: 0.0749 - accuracy: 0.9803 - precision_13: 0.9812 - recall_13: 0.9766 - auc_13: 0.9973\n",
      "Epoch 10/10\n",
      "29/29 [==============================] - 1s 19ms/step - loss: 0.0481 - accuracy: 0.9890 - precision_13: 0.9929 - recall_13: 0.9836 - auc_13: 0.9982\n",
      "Epoch 1/10\n",
      "29/29 [==============================] - 1s 18ms/step - loss: 37.8782 - accuracy: 0.5455 - precision_14: 0.5190 - recall_14: 0.4159 - auc_14: 0.5412\n",
      "Epoch 2/10\n",
      "29/29 [==============================] - 1s 20ms/step - loss: 1.3495 - accuracy: 0.6747 - precision_14: 0.7093 - recall_14: 0.5187 - auc_14: 0.7782\n",
      "Epoch 3/10\n",
      "29/29 [==============================] - 1s 20ms/step - loss: 0.4393 - accuracy: 0.7842 - precision_14: 0.8147 - recall_14: 0.6986 - auc_14: 0.8897\n",
      "Epoch 4/10\n",
      "29/29 [==============================] - 1s 20ms/step - loss: 0.2507 - accuracy: 0.9036 - precision_14: 0.9146 - recall_14: 0.8762 - auc_14: 0.9690\n",
      "Epoch 5/10\n",
      "29/29 [==============================] - 1s 20ms/step - loss: 0.1247 - accuracy: 0.9715 - precision_14: 0.9809 - recall_14: 0.9579 - auc_14: 0.9941\n",
      "Epoch 6/10\n",
      "29/29 [==============================] - 1s 20ms/step - loss: 0.0687 - accuracy: 0.9792 - precision_14: 0.9881 - recall_14: 0.9673 - auc_14: 0.9977\n",
      "Epoch 7/10\n",
      "29/29 [==============================] - 1s 20ms/step - loss: 0.0585 - accuracy: 0.9847 - precision_14: 0.9859 - recall_14: 0.9813 - auc_14: 0.9967\n",
      "Epoch 8/10\n",
      "29/29 [==============================] - 1s 20ms/step - loss: 0.0252 - accuracy: 0.9956 - precision_14: 0.9977 - recall_14: 0.9930 - auc_14: 0.9996\n",
      "Epoch 9/10\n",
      "29/29 [==============================] - 1s 20ms/step - loss: 0.0370 - accuracy: 0.9901 - precision_14: 0.9883 - recall_14: 0.9907 - auc_14: 0.9991\n",
      "Epoch 10/10\n",
      "29/29 [==============================] - 1s 19ms/step - loss: 0.0233 - accuracy: 0.9967 - precision_14: 0.9953 - recall_14: 0.9977 - auc_14: 0.9985\n",
      " Accuracy: 92.402% (+/-0.856) \n",
      " Precision: 90.462% (+/-1.692) \n",
      " Recall: 89.773% (+/-3.293) \n",
      " AUC: 97.523% (+/-1.010) \n"
     ]
    }
   ],
   "source": [
    "run_experiment_3(X,y)"
   ]
  },
  {
   "cell_type": "code",
   "execution_count": 7,
   "metadata": {},
   "outputs": [],
   "source": [
    "n_timesteps, n_features = X.shape[1], X.shape[2]\n",
    "model = Sequential()\n",
    "model.add(Conv1D(filters=64, kernel_size=3, activation='relu', input_shape=(n_timesteps,n_features)))\n",
    "model.add(Conv1D(filters=64, kernel_size=3, activation='relu'))\n",
    "model.add(Dropout(0.5))\n",
    "model.add(MaxPooling1D(pool_size=2))\n",
    "model.add(Flatten())\n",
    "model.add(Dense(100, activation= 'relu' ))\n",
    "model.add(Dropout(0.25))\n",
    "model.add(Dense(1, activation= 'sigmoid' ))"
   ]
  },
  {
   "cell_type": "code",
   "execution_count": 13,
   "metadata": {
    "scrolled": true
   },
   "outputs": [
    {
     "data": {
      "image/png": "[encoded data removed]",
      "text/plain": [
       "<IPython.core.display.Image object>"
      ]
     },
     "execution_count": 13,
     "metadata": {},
     "output_type": "execute_result"
    }
   ],
   "source": [
    "plot_model(model, to_file='cnn1.png', show_shapes=True, show_layer_names=False,rankdir=\"LR\")"
   ]
  },
  {
   "cell_type": "code",
   "execution_count": 14,
   "metadata": {},
   "outputs": [],
   "source": [
    "model = Sequential()\n",
    "model.add(Conv1D(filters=64, kernel_size=3, activation='relu', input_shape=(n_timesteps,n_features)))\n",
    "model.add(Dropout(0.5))\n",
    "model.add(Conv1D(filters=64, kernel_size=3, activation='relu'))\n",
    "model.add(Dropout(0.5))\n",
    "model.add(Conv1D(filters=64, kernel_size=3, activation='relu'))\n",
    "model.add(Dropout(0.5))\n",
    "model.add(MaxPooling1D(pool_size=2))\n",
    "model.add(Flatten())\n",
    "model.add(Dense(100, activation= 'relu' ))\n",
    "model.add(Dropout(0.25))\n",
    "model.add(Dense(1, activation= 'sigmoid' ))"
   ]
  },
  {
   "cell_type": "code",
   "execution_count": 15,
   "metadata": {},
   "outputs": [
    {
     "data": {
      "image/png": "[encoded data removed]",
      "text/plain": [
       "<IPython.core.display.Image object>"
      ]
     },
     "execution_count": 15,
     "metadata": {},
     "output_type": "execute_result"
    }
   ],
   "source": [
    "plot_model(model, to_file='cnn2.png', show_shapes=True, show_layer_names=False,rankdir=\"LR\")"
   ]
  },
  {
   "cell_type": "code",
   "execution_count": 16,
   "metadata": {},
   "outputs": [],
   "source": [
    "model = Sequential()\n",
    "model.add(Conv1D(filters=64, kernel_size=3, activation='relu', input_shape=(n_timesteps,n_features)))\n",
    "model.add(Conv1D(filters=64, kernel_size=3, activation='relu'))\n",
    "model.add(Dropout(0.5))\n",
    "model.add(MaxPooling1D(pool_size=2))\n",
    "model.add(Flatten())\n",
    "model.add(Dense(100, activation= 'relu' ))\n",
    "model.add(Dropout(0.25))\n",
    "model.add(Dense(50, activation= 'relu' ))\n",
    "model.add(Dropout(0.25))\n",
    "model.add(Dense(1, activation= 'sigmoid' ))"
   ]
  },
  {
   "cell_type": "code",
   "execution_count": 17,
   "metadata": {},
   "outputs": [
    {
     "data": {
      "image/png": "[encoded data removed]",
      "text/plain": [
       "<IPython.core.display.Image object>"
      ]
     },
     "execution_count": 17,
     "metadata": {},
     "output_type": "execute_result"
    }
   ],
   "source": [
    "plot_model(model, to_file='cnn3.png', show_shapes=True, show_layer_names=False,rankdir=\"LR\")"
   ]
  },
  {
   "cell_type": "code",
   "execution_count": null,
   "metadata": {},
   "outputs": [],
   "source": []
  }
 ],
 "metadata": {
  "kernelspec": {
   "display_name": "Python 3",
   "language": "python",
   "name": "python3"
  },
  "language_info": {
   "codemirror_mode": {
    "name": "ipython",
    "version": 3
   },
   "file_extension": ".py",
   "mimetype": "text/x-python",
   "name": "python",
   "nbconvert_exporter": "python",
   "pygments_lexer": "ipython3",
   "version": "3.6.9"
  }
 },
 "nbformat": 4,
 "nbformat_minor": 2
}
